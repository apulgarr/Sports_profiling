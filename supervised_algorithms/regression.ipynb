{
 "cells": [
  {
   "cell_type": "code",
   "execution_count": 1,
   "metadata": {},
   "outputs": [],
   "source": [
    "import pandas as pd\n",
    "import numpy as np\n",
    "from sklearn.linear_model import LinearRegression, LarsCV\n",
    "from sklearn.svm import SVR\n",
    "from sklearn.model_selection import train_test_split\n",
    "from sklearn.metrics import r2_score\n",
    "import matplotlib.pyplot as plt"
   ]
  },
  {
   "cell_type": "code",
   "execution_count": 3,
   "metadata": {},
   "outputs": [
    {
     "data": {
      "text/html": [
       "<div>\n",
       "<style scoped>\n",
       "    .dataframe tbody tr th:only-of-type {\n",
       "        vertical-align: middle;\n",
       "    }\n",
       "\n",
       "    .dataframe tbody tr th {\n",
       "        vertical-align: top;\n",
       "    }\n",
       "\n",
       "    .dataframe thead th {\n",
       "        text-align: right;\n",
       "    }\n",
       "</style>\n",
       "<table border=\"1\" class=\"dataframe\">\n",
       "  <thead>\n",
       "    <tr style=\"text-align: right;\">\n",
       "      <th></th>\n",
       "      <th>Unnamed: 0</th>\n",
       "      <th>user_name</th>\n",
       "      <th>likes</th>\n",
       "      <th>text</th>\n",
       "      <th>sport</th>\n",
       "      <th>followers</th>\n",
       "      <th>statuses_count</th>\n",
       "      <th>text_stemmed</th>\n",
       "      <th>text_lemmatized</th>\n",
       "      <th>text_string</th>\n",
       "    </tr>\n",
       "  </thead>\n",
       "  <tbody>\n",
       "    <tr>\n",
       "      <th>0</th>\n",
       "      <td>0</td>\n",
       "      <td>StonyBrookWSOC</td>\n",
       "      <td>3</td>\n",
       "      <td>['today', 'game', 'barbs', 'defense', 'game', ...</td>\n",
       "      <td>soccer</td>\n",
       "      <td>1178</td>\n",
       "      <td>2374</td>\n",
       "      <td>['today', 'game', 'barb', 'defens', 'game', 'w...</td>\n",
       "      <td>['today', 'game', 'barb', 'defense', 'game', '...</td>\n",
       "      <td>today  game  barb  defense  game  word</td>\n",
       "    </tr>\n",
       "    <tr>\n",
       "      <th>1</th>\n",
       "      <td>1</td>\n",
       "      <td>Amy Knapp</td>\n",
       "      <td>0</td>\n",
       "      <td>['biggest', 'workout', 'today', 'putting', 'so...</td>\n",
       "      <td>soccer</td>\n",
       "      <td>2267</td>\n",
       "      <td>14601</td>\n",
       "      <td>['biggest', 'workout', 'today', 'put', 'son', ...</td>\n",
       "      <td>['biggest', 'workout', 'today', 'putting', 'so...</td>\n",
       "      <td>biggest  workout  today  putting  son  soccer ...</td>\n",
       "    </tr>\n",
       "    <tr>\n",
       "      <th>2</th>\n",
       "      <td>2</td>\n",
       "      <td>Lou Tobacco</td>\n",
       "      <td>0</td>\n",
       "      <td>['winning', 'weekend', 'congratulations', 'aro...</td>\n",
       "      <td>soccer</td>\n",
       "      <td>328</td>\n",
       "      <td>84</td>\n",
       "      <td>['win', 'weekend', 'congratul', 'around', 'lio...</td>\n",
       "      <td>['winning', 'weekend', 'congratulation', 'arou...</td>\n",
       "      <td>winning  weekend  congratulation  around  lion...</td>\n",
       "    </tr>\n",
       "    <tr>\n",
       "      <th>3</th>\n",
       "      <td>3</td>\n",
       "      <td>Parkside Rangers</td>\n",
       "      <td>0</td>\n",
       "      <td>['extended', 'win', 'streak']</td>\n",
       "      <td>soccer</td>\n",
       "      <td>2158</td>\n",
       "      <td>9629</td>\n",
       "      <td>['extend', 'win', 'streak']</td>\n",
       "      <td>['extended', 'win', 'streak']</td>\n",
       "      <td>extended  win  streak</td>\n",
       "    </tr>\n",
       "    <tr>\n",
       "      <th>4</th>\n",
       "      <td>4</td>\n",
       "      <td>ACU Sports</td>\n",
       "      <td>0</td>\n",
       "      <td>['final', 'soccer', 'league', 'play', 'goal', ...</td>\n",
       "      <td>soccer</td>\n",
       "      <td>10272</td>\n",
       "      <td>23486</td>\n",
       "      <td>['final', 'soccer', 'leagu', 'play', 'goal', '...</td>\n",
       "      <td>['final', 'soccer', 'league', 'play', 'goal', ...</td>\n",
       "      <td>final  soccer  league  play  goal  second  lef...</td>\n",
       "    </tr>\n",
       "    <tr>\n",
       "      <th>5</th>\n",
       "      <td>5</td>\n",
       "      <td>tnreels</td>\n",
       "      <td>5</td>\n",
       "      <td>['mo', 'full', 'extension', 'layout', 'amp', '...</td>\n",
       "      <td>soccer</td>\n",
       "      <td>80</td>\n",
       "      <td>144</td>\n",
       "      <td>['mo', 'full', 'extens', 'layout', 'amp', 'soc...</td>\n",
       "      <td>['mo', 'full', 'extension', 'layout', 'amp', '...</td>\n",
       "      <td>mo  full  extension  layout  amp  soccer  park</td>\n",
       "    </tr>\n",
       "  </tbody>\n",
       "</table>\n",
       "</div>"
      ],
      "text/plain": [
       "   Unnamed: 0         user_name  likes  \\\n",
       "0           0    StonyBrookWSOC      3   \n",
       "1           1         Amy Knapp      0   \n",
       "2           2       Lou Tobacco      0   \n",
       "3           3  Parkside Rangers      0   \n",
       "4           4        ACU Sports      0   \n",
       "5           5           tnreels      5   \n",
       "\n",
       "                                                text   sport  followers  \\\n",
       "0  ['today', 'game', 'barbs', 'defense', 'game', ...  soccer       1178   \n",
       "1  ['biggest', 'workout', 'today', 'putting', 'so...  soccer       2267   \n",
       "2  ['winning', 'weekend', 'congratulations', 'aro...  soccer        328   \n",
       "3                      ['extended', 'win', 'streak']  soccer       2158   \n",
       "4  ['final', 'soccer', 'league', 'play', 'goal', ...  soccer      10272   \n",
       "5  ['mo', 'full', 'extension', 'layout', 'amp', '...  soccer         80   \n",
       "\n",
       "   statuses_count                                       text_stemmed  \\\n",
       "0            2374  ['today', 'game', 'barb', 'defens', 'game', 'w...   \n",
       "1           14601  ['biggest', 'workout', 'today', 'put', 'son', ...   \n",
       "2              84  ['win', 'weekend', 'congratul', 'around', 'lio...   \n",
       "3            9629                        ['extend', 'win', 'streak']   \n",
       "4           23486  ['final', 'soccer', 'leagu', 'play', 'goal', '...   \n",
       "5             144  ['mo', 'full', 'extens', 'layout', 'amp', 'soc...   \n",
       "\n",
       "                                     text_lemmatized  \\\n",
       "0  ['today', 'game', 'barb', 'defense', 'game', '...   \n",
       "1  ['biggest', 'workout', 'today', 'putting', 'so...   \n",
       "2  ['winning', 'weekend', 'congratulation', 'arou...   \n",
       "3                      ['extended', 'win', 'streak']   \n",
       "4  ['final', 'soccer', 'league', 'play', 'goal', ...   \n",
       "5  ['mo', 'full', 'extension', 'layout', 'amp', '...   \n",
       "\n",
       "                                         text_string  \n",
       "0             today  game  barb  defense  game  word  \n",
       "1  biggest  workout  today  putting  son  soccer ...  \n",
       "2  winning  weekend  congratulation  around  lion...  \n",
       "3                              extended  win  streak  \n",
       "4  final  soccer  league  play  goal  second  lef...  \n",
       "5     mo  full  extension  layout  amp  soccer  park  "
      ]
     },
     "execution_count": 3,
     "metadata": {},
     "output_type": "execute_result"
    }
   ],
   "source": [
    "data = pd.read_csv(\"cleaned_tweets.csv\")\n",
    "data.head(6)"
   ]
  },
  {
   "cell_type": "code",
   "execution_count": 4,
   "metadata": {},
   "outputs": [],
   "source": [
    "x = data[[\"followers\", \"statuses_count\"]]\n",
    "y = data[\"likes\"]"
   ]
  },
  {
   "cell_type": "code",
   "execution_count": 5,
   "metadata": {},
   "outputs": [],
   "source": [
    "x_train, x_test, y_train, y_test = train_test_split(x, y, test_size = 0.3, random_state = 42)"
   ]
  },
  {
   "cell_type": "code",
   "execution_count": 6,
   "metadata": {},
   "outputs": [
    {
     "data": {
      "text/plain": [
       "0.02464152286070509"
      ]
     },
     "execution_count": 6,
     "metadata": {},
     "output_type": "execute_result"
    }
   ],
   "source": [
    "#Linear regression implementation\n",
    "model = LinearRegression()\n",
    "model.fit(x_train, y_train)\n",
    "prediction = model.predict(x_test)\n",
    "r2 = r2_score(y_test, prediction)\n",
    "#R2 score linear regression\n",
    "r2"
   ]
  },
  {
   "cell_type": "code",
   "execution_count": 7,
   "metadata": {},
   "outputs": [
    {
     "data": {
      "text/plain": [
       "-0.00014646819645869336"
      ]
     },
     "execution_count": 7,
     "metadata": {},
     "output_type": "execute_result"
    }
   ],
   "source": [
    "#Lars regressor implementation\n",
    "lars = LarsCV(cv=5).fit(x_train, y_train)\n",
    "prediction_2 = lars.predict(x_test)\n",
    "r2 = r2_score(y_test, prediction_2)\n",
    "#R2 score lars regressor\n",
    "r2"
   ]
  },
  {
   "cell_type": "code",
   "execution_count": 8,
   "metadata": {},
   "outputs": [
    {
     "data": {
      "text/plain": [
       "-0.0051297354546255836"
      ]
     },
     "execution_count": 8,
     "metadata": {},
     "output_type": "execute_result"
    }
   ],
   "source": [
    "#Support vector machine regressor implementation\n",
    "svr = SVR(gamma='scale', C=1.0, epsilon=0.2)\n",
    "svr.fit(x_train, y_train)\n",
    "prediction_3 = svr.predict(x_test)\n",
    "r2 = r2_score(y_test, prediction_3)\n",
    "#R2 score SVR\n",
    "r2"
   ]
  },
  {
   "cell_type": "code",
   "execution_count": null,
   "metadata": {},
   "outputs": [],
   "source": []
  }
 ],
 "metadata": {
  "kernelspec": {
   "display_name": "Python 3",
   "language": "python",
   "name": "python3"
  },
  "language_info": {
   "codemirror_mode": {
    "name": "ipython",
    "version": 3
   },
   "file_extension": ".py",
   "mimetype": "text/x-python",
   "name": "python",
   "nbconvert_exporter": "python",
   "pygments_lexer": "ipython3",
   "version": "3.7.3"
  }
 },
 "nbformat": 4,
 "nbformat_minor": 4
}
