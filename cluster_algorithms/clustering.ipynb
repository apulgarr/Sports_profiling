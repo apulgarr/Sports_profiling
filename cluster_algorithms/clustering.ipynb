{
 "cells": [
  {
   "cell_type": "code",
   "execution_count": 86,
   "metadata": {},
   "outputs": [],
   "source": [
    "import pandas as pd\n",
    "import numpy as np\n",
    "import matplotlib.pyplot as plt\n",
    "from sklearn.cluster import AffinityPropagation\n",
    "from sklearn.cluster import KMeans\n",
    "from sklearn.metrics import pairwise_distances_argmin_min\n",
    "from sklearn.feature_extraction.text import CountVectorizer, TfidfTransformer\n",
    "from sklearn.model_selection import train_test_split"
   ]
  },
  {
   "cell_type": "code",
   "execution_count": 44,
   "metadata": {},
   "outputs": [
    {
     "data": {
      "text/html": [
       "<div>\n",
       "<style scoped>\n",
       "    .dataframe tbody tr th:only-of-type {\n",
       "        vertical-align: middle;\n",
       "    }\n",
       "\n",
       "    .dataframe tbody tr th {\n",
       "        vertical-align: top;\n",
       "    }\n",
       "\n",
       "    .dataframe thead th {\n",
       "        text-align: right;\n",
       "    }\n",
       "</style>\n",
       "<table border=\"1\" class=\"dataframe\">\n",
       "  <thead>\n",
       "    <tr style=\"text-align: right;\">\n",
       "      <th></th>\n",
       "      <th>Unnamed: 0</th>\n",
       "      <th>user_name</th>\n",
       "      <th>likes</th>\n",
       "      <th>text</th>\n",
       "      <th>sport</th>\n",
       "      <th>followers</th>\n",
       "      <th>statuses_count</th>\n",
       "      <th>text_stemmed</th>\n",
       "      <th>text_lemmatized</th>\n",
       "      <th>text_string</th>\n",
       "    </tr>\n",
       "  </thead>\n",
       "  <tbody>\n",
       "    <tr>\n",
       "      <th>0</th>\n",
       "      <td>0</td>\n",
       "      <td>StonyBrookWSOC</td>\n",
       "      <td>3</td>\n",
       "      <td>['today', 'game', 'barbs', 'defense', 'game', ...</td>\n",
       "      <td>soccer</td>\n",
       "      <td>1178</td>\n",
       "      <td>2374</td>\n",
       "      <td>['today', 'game', 'barb', 'defens', 'game', 'w...</td>\n",
       "      <td>['today', 'game', 'barb', 'defense', 'game', '...</td>\n",
       "      <td>today  game  barb  defense  game  word</td>\n",
       "    </tr>\n",
       "    <tr>\n",
       "      <th>1</th>\n",
       "      <td>1</td>\n",
       "      <td>Amy Knapp</td>\n",
       "      <td>0</td>\n",
       "      <td>['biggest', 'workout', 'today', 'putting', 'so...</td>\n",
       "      <td>soccer</td>\n",
       "      <td>2267</td>\n",
       "      <td>14601</td>\n",
       "      <td>['biggest', 'workout', 'today', 'put', 'son', ...</td>\n",
       "      <td>['biggest', 'workout', 'today', 'putting', 'so...</td>\n",
       "      <td>biggest  workout  today  putting  son  soccer ...</td>\n",
       "    </tr>\n",
       "    <tr>\n",
       "      <th>2</th>\n",
       "      <td>2</td>\n",
       "      <td>Lou Tobacco</td>\n",
       "      <td>0</td>\n",
       "      <td>['winning', 'weekend', 'congratulations', 'aro...</td>\n",
       "      <td>soccer</td>\n",
       "      <td>328</td>\n",
       "      <td>84</td>\n",
       "      <td>['win', 'weekend', 'congratul', 'around', 'lio...</td>\n",
       "      <td>['winning', 'weekend', 'congratulation', 'arou...</td>\n",
       "      <td>winning  weekend  congratulation  around  lion...</td>\n",
       "    </tr>\n",
       "    <tr>\n",
       "      <th>3</th>\n",
       "      <td>3</td>\n",
       "      <td>Parkside Rangers</td>\n",
       "      <td>0</td>\n",
       "      <td>['extended', 'win', 'streak']</td>\n",
       "      <td>soccer</td>\n",
       "      <td>2158</td>\n",
       "      <td>9629</td>\n",
       "      <td>['extend', 'win', 'streak']</td>\n",
       "      <td>['extended', 'win', 'streak']</td>\n",
       "      <td>extended  win  streak</td>\n",
       "    </tr>\n",
       "    <tr>\n",
       "      <th>4</th>\n",
       "      <td>4</td>\n",
       "      <td>ACU Sports</td>\n",
       "      <td>0</td>\n",
       "      <td>['final', 'soccer', 'league', 'play', 'goal', ...</td>\n",
       "      <td>soccer</td>\n",
       "      <td>10272</td>\n",
       "      <td>23486</td>\n",
       "      <td>['final', 'soccer', 'leagu', 'play', 'goal', '...</td>\n",
       "      <td>['final', 'soccer', 'league', 'play', 'goal', ...</td>\n",
       "      <td>final  soccer  league  play  goal  second  lef...</td>\n",
       "    </tr>\n",
       "    <tr>\n",
       "      <th>5</th>\n",
       "      <td>5</td>\n",
       "      <td>tnreels</td>\n",
       "      <td>5</td>\n",
       "      <td>['mo', 'full', 'extension', 'layout', 'amp', '...</td>\n",
       "      <td>soccer</td>\n",
       "      <td>80</td>\n",
       "      <td>144</td>\n",
       "      <td>['mo', 'full', 'extens', 'layout', 'amp', 'soc...</td>\n",
       "      <td>['mo', 'full', 'extension', 'layout', 'amp', '...</td>\n",
       "      <td>mo  full  extension  layout  amp  soccer  park</td>\n",
       "    </tr>\n",
       "  </tbody>\n",
       "</table>\n",
       "</div>"
      ],
      "text/plain": [
       "   Unnamed: 0         user_name  likes  \\\n",
       "0           0    StonyBrookWSOC      3   \n",
       "1           1         Amy Knapp      0   \n",
       "2           2       Lou Tobacco      0   \n",
       "3           3  Parkside Rangers      0   \n",
       "4           4        ACU Sports      0   \n",
       "5           5           tnreels      5   \n",
       "\n",
       "                                                text   sport  followers  \\\n",
       "0  ['today', 'game', 'barbs', 'defense', 'game', ...  soccer       1178   \n",
       "1  ['biggest', 'workout', 'today', 'putting', 'so...  soccer       2267   \n",
       "2  ['winning', 'weekend', 'congratulations', 'aro...  soccer        328   \n",
       "3                      ['extended', 'win', 'streak']  soccer       2158   \n",
       "4  ['final', 'soccer', 'league', 'play', 'goal', ...  soccer      10272   \n",
       "5  ['mo', 'full', 'extension', 'layout', 'amp', '...  soccer         80   \n",
       "\n",
       "   statuses_count                                       text_stemmed  \\\n",
       "0            2374  ['today', 'game', 'barb', 'defens', 'game', 'w...   \n",
       "1           14601  ['biggest', 'workout', 'today', 'put', 'son', ...   \n",
       "2              84  ['win', 'weekend', 'congratul', 'around', 'lio...   \n",
       "3            9629                        ['extend', 'win', 'streak']   \n",
       "4           23486  ['final', 'soccer', 'leagu', 'play', 'goal', '...   \n",
       "5             144  ['mo', 'full', 'extens', 'layout', 'amp', 'soc...   \n",
       "\n",
       "                                     text_lemmatized  \\\n",
       "0  ['today', 'game', 'barb', 'defense', 'game', '...   \n",
       "1  ['biggest', 'workout', 'today', 'putting', 'so...   \n",
       "2  ['winning', 'weekend', 'congratulation', 'arou...   \n",
       "3                      ['extended', 'win', 'streak']   \n",
       "4  ['final', 'soccer', 'league', 'play', 'goal', ...   \n",
       "5  ['mo', 'full', 'extension', 'layout', 'amp', '...   \n",
       "\n",
       "                                         text_string  \n",
       "0             today  game  barb  defense  game  word  \n",
       "1  biggest  workout  today  putting  son  soccer ...  \n",
       "2  winning  weekend  congratulation  around  lion...  \n",
       "3                              extended  win  streak  \n",
       "4  final  soccer  league  play  goal  second  lef...  \n",
       "5     mo  full  extension  layout  amp  soccer  park  "
      ]
     },
     "execution_count": 44,
     "metadata": {},
     "output_type": "execute_result"
    }
   ],
   "source": [
    "#Uploading data to a pandas table\n",
    "data = pd.read_csv(\"cleaned_tweets.csv\")\n",
    "data.head(6)"
   ]
  },
  {
   "cell_type": "code",
   "execution_count": 45,
   "metadata": {},
   "outputs": [
    {
     "name": "stdout",
     "output_type": "stream",
     "text": [
      "(11118, 26)\n",
      "(11118,)\n"
     ]
    }
   ],
   "source": [
    "#Used data\n",
    "x_data = np.array(data['text_lemmatized'])\n",
    "y_data = np.array(data['likes'])\n",
    "\n",
    "#Convert a collection of text documents to a matrix of token counts\n",
    "count_vect = CountVectorizer()\n",
    "x_data = count_vect.fit_transform(x_data)\n",
    "tf_transformer = TfidfTransformer(use_idf=False).fit(x_data)\n",
    "x_data = tf_transformer.transform(x_data)\n",
    "\n",
    "print(x_data.shape)\n",
    "print(y_data.shape)"
   ]
  },
  {
   "cell_type": "code",
   "execution_count": 68,
   "metadata": {},
   "outputs": [
    {
     "data": {
      "image/png": "[encoded data removed]",
      "text/plain": [
       "<Figure size 432x288 with 1 Axes>"
      ]
     },
     "metadata": {
      "needs_background": "light"
     },
     "output_type": "display_data"
    }
   ],
   "source": [
    "#Using the elbow method to determine the optimal number of clusters for k-means clustering\n",
    "Nc = range(1, 22)\n",
    "kmeans = [KMeans(n_clusters=i) for i in Nc]\n",
    "kmeans\n",
    "score = [kmeans[i].fit(x_data).score(x_data) for i in range(len(kmeans))]\n",
    "score\n",
    "#Ploting the data\n",
    "plt.plot(Nc,score)\n",
    "plt.xlabel('Number of Clusters')\n",
    "plt.ylabel('Score')\n",
    "plt.title('Elbow Curve')\n",
    "# balance between the number of clusters and the average distance of the points of that group to its center.\n",
    "plt.show()"
   ]
  },
  {
   "cell_type": "code",
   "execution_count": 44,
   "metadata": {},
   "outputs": [
    {
     "name": "stdout",
     "output_type": "stream",
     "text": [
      "\n",
      "Number of clusters 22\n",
      "Homogeneity: 1.000\n",
      "Completeness: 1.000\n",
      "V-measure: 1.000\n"
     ]
    },
    {
     "data": {
      "image/png": "[encoded data removed]",
      "text/plain": [
       "<Figure size 432x288 with 1 Axes>"
      ]
     },
     "metadata": {
      "needs_background": "light"
     },
     "output_type": "display_data"
    }
   ],
   "source": [
    "#K-Means\n",
    "kmeans = KMeans(n_clusters=22).fit(x_data)\n",
    "\n",
    "#Getting the centroids from the different clusters\n",
    "centroids = kmeans.cluster_centers_\n",
    "#print(centroids)\n",
    "print(\"\\nEstimated number of clusters\",len(centroids))\n",
    "\n",
    "#Plotting the data\n",
    "plt.scatter(data['likes'], x_data, c= kmeans.labels_.astype(float), s=25, alpha=0.5)\n",
    "plt.scatter(centroids[:, 0], centroids[:, 1], c='red', s=25)\n",
    "\n",
    "labels = kmeans.labels_\n",
    "\n",
    "#Quality Metrics\n",
    "print(\"Homogeneity: %0.3f\" % metrics.homogeneity_score(labels_true, labels[0:20]))   #Homogenity of data types\n",
    "print(\"Completeness: %0.3f\" % metrics.completeness_score(labels_true, labels[0:20])) #Completeness of groups\n",
    "print(\"V-measure: %0.3f\" % metrics.v_measure_score(labels_true, labels[0:20]))       #Average(Homogenity,Completeness)"
   ]
  },
  {
   "cell_type": "code",
   "execution_count": 85,
   "metadata": {},
   "outputs": [
    {
     "name": "stdout",
     "output_type": "stream",
     "text": [
      "Estimated number of clusters: 22\n",
      "Homogeneity: 0.954\n",
      "Completeness: 1.000\n",
      "V-measure: 0.976\n"
     ]
    }
   ],
   "source": [
    "#AffinityPropagation\n",
    "af = AffinityPropagation(affinity='euclidean', max_iter=200 ,preference=-50).fit(x_data.T)\n",
    "\n",
    "#Getting the centroids from the different clusters\n",
    "cluster_centers_indices = af.cluster_centers_indices_\n",
    "labels = af.labels_\n",
    "\n",
    "n_clusters_ = len(cluster_centers_indices)\n",
    "\n",
    "print('Estimated number of clusters: %d' % n_clusters_)\n",
    "\n",
    "#Quality Metrics\n",
    "print(\"Homogeneity: %0.3f\" % metrics.homogeneity_score(labels_true, labels[0:20]))   #Homogenity of data types\n",
    "print(\"Completeness: %0.3f\" % metrics.completeness_score(labels_true, labels[0:20])) #Completeness of groups\n",
    "print(\"V-measure: %0.3f\" % metrics.v_measure_score(labels_true, labels[0:20]))       #Average(Homogenity,Completeness)"
   ]
  }
 ],
 "metadata": {
  "kernelspec": {
   "display_name": "Python 3",
   "language": "python",
   "name": "python3"
  },
  "language_info": {
   "codemirror_mode": {
    "name": "ipython",
    "version": 3
   },
   "file_extension": ".py",
   "mimetype": "text/x-python",
   "name": "python",
   "nbconvert_exporter": "python",
   "pygments_lexer": "ipython3",
   "version": "3.7.1"
  }
 },
 "nbformat": 4,
 "nbformat_minor": 2
}
